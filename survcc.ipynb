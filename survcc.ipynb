{
 "cells": [
  {
   "cell_type": "markdown",
   "metadata": {},
   "source": [
    "# Survival Analysis with Python"
   ]
  },
  {
   "cell_type": "markdown",
   "metadata": {},
   "source": [
    "## ⚙️ Imports"
   ]
  },
  {
   "cell_type": "code",
   "execution_count": 1,
   "metadata": {},
   "outputs": [],
   "source": [
    "import warnings\n",
    "\n",
    "import matplotlib.pyplot as plt\n",
    "import numpy as np\n",
    "import torch\n",
    "import xgboost as xgb\n",
    "from fpboost.models import FPBoost\n",
    "from pycox.models import CoxPH, DeepHitSingle\n",
    "from sklearn.compose import ColumnTransformer\n",
    "from sklearn.preprocessing import OneHotEncoder, StandardScaler\n",
    "from sksurv.datasets import load_gbsg2\n",
    "from sksurv.metrics import concordance_index_censored\n",
    "from sksurv.ensemble import RandomSurvivalForest\n",
    "from sksurv.linear_model import CoxPHSurvivalAnalysis\n",
    "from sksurv.nonparametric import kaplan_meier_estimator\n",
    "from sklearn.model_selection import train_test_split\n",
    "import torchtuples as tt\n",
    "\n",
    "%matplotlib inline\n",
    "\n",
    "np.random.seed(42)\n",
    "torch.manual_seed(42);"
   ]
  },
  {
   "cell_type": "markdown",
   "metadata": {},
   "source": [
    "## 💾 Load Data\n",
    "\n",
    "In this notebook, we will use the [German Breast Cancer Study Group 2](https://scikit-survival.readthedocs.io/en/stable/api/generated/sksurv.datasets.load_gbsg2.html) dataset."
   ]
  },
  {
   "cell_type": "code",
   "execution_count": 2,
   "metadata": {},
   "outputs": [
    {
     "name": "stdout",
     "output_type": "stream",
     "text": [
      "X: shape=(686, 8), type=<class 'pandas.core.frame.DataFrame'>\n",
      "y: shape=(686,), type=<class 'numpy.ndarray'>\n"
     ]
    }
   ],
   "source": [
    "X, y = load_gbsg2()\n",
    "print(f\"X: shape={X.shape}, type={type(X)}\")\n",
    "print(f\"y: shape={y.shape}, type={type(y)}\")"
   ]
  },
  {
   "cell_type": "markdown",
   "metadata": {},
   "source": [
    "### Feature Preprocessing"
   ]
  },
  {
   "cell_type": "code",
   "execution_count": 3,
   "metadata": {},
   "outputs": [
    {
     "data": {
      "text/html": [
       "<div>\n",
       "<style scoped>\n",
       "    .dataframe tbody tr th:only-of-type {\n",
       "        vertical-align: middle;\n",
       "    }\n",
       "\n",
       "    .dataframe tbody tr th {\n",
       "        vertical-align: top;\n",
       "    }\n",
       "\n",
       "    .dataframe thead th {\n",
       "        text-align: right;\n",
       "    }\n",
       "</style>\n",
       "<table border=\"1\" class=\"dataframe\">\n",
       "  <thead>\n",
       "    <tr style=\"text-align: right;\">\n",
       "      <th></th>\n",
       "      <th>age</th>\n",
       "      <th>estrec</th>\n",
       "      <th>horTh</th>\n",
       "      <th>menostat</th>\n",
       "      <th>pnodes</th>\n",
       "      <th>progrec</th>\n",
       "      <th>tgrade</th>\n",
       "      <th>tsize</th>\n",
       "    </tr>\n",
       "  </thead>\n",
       "  <tbody>\n",
       "    <tr>\n",
       "      <th>0</th>\n",
       "      <td>70.0</td>\n",
       "      <td>66.0</td>\n",
       "      <td>no</td>\n",
       "      <td>Post</td>\n",
       "      <td>3.0</td>\n",
       "      <td>48.0</td>\n",
       "      <td>II</td>\n",
       "      <td>21.0</td>\n",
       "    </tr>\n",
       "    <tr>\n",
       "      <th>1</th>\n",
       "      <td>56.0</td>\n",
       "      <td>77.0</td>\n",
       "      <td>yes</td>\n",
       "      <td>Post</td>\n",
       "      <td>7.0</td>\n",
       "      <td>61.0</td>\n",
       "      <td>II</td>\n",
       "      <td>12.0</td>\n",
       "    </tr>\n",
       "    <tr>\n",
       "      <th>2</th>\n",
       "      <td>58.0</td>\n",
       "      <td>271.0</td>\n",
       "      <td>yes</td>\n",
       "      <td>Post</td>\n",
       "      <td>9.0</td>\n",
       "      <td>52.0</td>\n",
       "      <td>II</td>\n",
       "      <td>35.0</td>\n",
       "    </tr>\n",
       "    <tr>\n",
       "      <th>3</th>\n",
       "      <td>59.0</td>\n",
       "      <td>29.0</td>\n",
       "      <td>yes</td>\n",
       "      <td>Post</td>\n",
       "      <td>4.0</td>\n",
       "      <td>60.0</td>\n",
       "      <td>II</td>\n",
       "      <td>17.0</td>\n",
       "    </tr>\n",
       "    <tr>\n",
       "      <th>4</th>\n",
       "      <td>73.0</td>\n",
       "      <td>65.0</td>\n",
       "      <td>no</td>\n",
       "      <td>Post</td>\n",
       "      <td>1.0</td>\n",
       "      <td>26.0</td>\n",
       "      <td>II</td>\n",
       "      <td>35.0</td>\n",
       "    </tr>\n",
       "  </tbody>\n",
       "</table>\n",
       "</div>"
      ],
      "text/plain": [
       "    age  estrec horTh menostat  pnodes  progrec tgrade  tsize\n",
       "0  70.0    66.0    no     Post     3.0     48.0     II   21.0\n",
       "1  56.0    77.0   yes     Post     7.0     61.0     II   12.0\n",
       "2  58.0   271.0   yes     Post     9.0     52.0     II   35.0\n",
       "3  59.0    29.0   yes     Post     4.0     60.0     II   17.0\n",
       "4  73.0    65.0    no     Post     1.0     26.0     II   35.0"
      ]
     },
     "execution_count": 3,
     "metadata": {},
     "output_type": "execute_result"
    }
   ],
   "source": [
    "X.head()"
   ]
  },
  {
   "cell_type": "code",
   "execution_count": 4,
   "metadata": {},
   "outputs": [
    {
     "name": "stdout",
     "output_type": "stream",
     "text": [
      "tgrade unique values: [2, 3, 1]\n",
      "Categories (3, int64): [1, 2, 3]\n"
     ]
    }
   ],
   "source": [
    "# Convert the tgrade column to numeric\n",
    "if \"I\" in X[\"tgrade\"].unique():\n",
    "    tgrade_dict = {\"I\": 1, \"II\": 2, \"III\": 3}\n",
    "    X[\"tgrade\"] = X[\"tgrade\"].map(tgrade_dict)\n",
    "\n",
    "print(f\"tgrade unique values: {X['tgrade'].unique()}\")"
   ]
  },
  {
   "cell_type": "code",
   "execution_count": 5,
   "metadata": {},
   "outputs": [
    {
     "name": "stdout",
     "output_type": "stream",
     "text": [
      "X_train: shape=(438, 8), type=<class 'pandas.core.frame.DataFrame'>\n",
      "X_val: shape=(110, 8), type=<class 'pandas.core.frame.DataFrame'>\n",
      "X_test: shape=(138, 8), type=<class 'pandas.core.frame.DataFrame'>\n"
     ]
    }
   ],
   "source": [
    "# Split the data into train, validation and test sets\n",
    "X_train, X_test, y_train, y_test = train_test_split(X, y, test_size=0.2, random_state=42)\n",
    "X_train, X_val, y_train, y_val = train_test_split(X_train, y_train, test_size=0.2, random_state=42)\n",
    "\n",
    "print(f\"X_train: shape={X_train.shape}, type={type(X_train)}\")\n",
    "print(f\"X_val: shape={X_val.shape}, type={type(X_val)}\")\n",
    "print(f\"X_test: shape={X_test.shape}, type={type(X_test)}\")"
   ]
  },
  {
   "cell_type": "code",
   "execution_count": 6,
   "metadata": {},
   "outputs": [],
   "source": [
    "preprocessor = None"
   ]
  },
  {
   "cell_type": "code",
   "execution_count": 7,
   "metadata": {},
   "outputs": [
    {
     "name": "stdout",
     "output_type": "stream",
     "text": [
      "Feature 0 mean: 0.0000, std: 1.0000\n",
      "Feature 1 mean: 0.0000, std: 1.0000\n",
      "Feature 4 mean: -0.0000, std: 1.0000\n",
      "Feature 5 mean: 0.0000, std: 1.0000\n",
      "Feature 6 mean: 0.0000, std: 1.0000\n",
      "Feature 7 mean: -0.0000, std: 1.0000\n"
     ]
    }
   ],
   "source": [
    "# Preprocess the data by scaling the numerical features \n",
    "# and one-hot encoding the categorical features\n",
    "cat_cols = [2, 3]\n",
    "num_cols = [i for i in range(X.shape[1]) if i not in cat_cols]\n",
    "\n",
    "if preprocessor is None:\n",
    "    preprocessor = ColumnTransformer(\n",
    "        transformers=[\n",
    "            (\"num\", StandardScaler(), num_cols),\n",
    "            (\"cat\", OneHotEncoder(drop=\"if_binary\"), cat_cols),\n",
    "        ]\n",
    "    )\n",
    "    X_train = preprocessor.fit_transform(X_train)\n",
    "    X_val = preprocessor.transform(X_val)\n",
    "    X_test = preprocessor.transform(X_test)\n",
    "\n",
    "for i, col in enumerate(num_cols):\n",
    "    print(f\"Feature {col} mean: {np.mean(X_train[:, i]):.4f}, std: {np.std(X_train[:, i]):.4f}\")"
   ]
  },
  {
   "cell_type": "markdown",
   "metadata": {},
   "source": [
    "### Label Preprocessing"
   ]
  },
  {
   "cell_type": "code",
   "execution_count": 8,
   "metadata": {},
   "outputs": [
    {
     "data": {
      "text/plain": [
       "array([( True, 1814.), ( True, 2018.), ( True,  712.), ( True, 1807.),\n",
       "       ( True,  772.)], dtype=[('cens', '?'), ('time', '<f8')])"
      ]
     },
     "execution_count": 8,
     "metadata": {},
     "output_type": "execute_result"
    }
   ],
   "source": [
    "y[:5]"
   ]
  },
  {
   "cell_type": "code",
   "execution_count": 9,
   "metadata": {},
   "outputs": [
    {
     "data": {
      "text/plain": [
       "(array([ True,  True,  True,  True,  True]),\n",
       " array([1814., 2018.,  712., 1807.,  772.]))"
      ]
     },
     "execution_count": 9,
     "metadata": {},
     "output_type": "execute_result"
    }
   ],
   "source": [
    "y[\"cens\"][:5], y[\"time\"][:5]"
   ]
  },
  {
   "cell_type": "code",
   "execution_count": 10,
   "metadata": {},
   "outputs": [
    {
     "data": {
      "text/plain": [
       "array([( True, 1.), (False, 2.), ( True, 3.), ( True, 4.), (False, 5.)],\n",
       "      dtype=[('cens', '?'), ('time', '<f8')])"
      ]
     },
     "execution_count": 10,
     "metadata": {},
     "output_type": "execute_result"
    }
   ],
   "source": [
    "# Example on how to build a custom y array with the sksurv typing\n",
    "events = [True, False, True, True, False]\n",
    "times = [1, 2, 3, 4, 5]\n",
    "\n",
    "dtype = [(\"cens\", bool), (\"time\", float)]\n",
    "\n",
    "custom_y = np.array(list(zip(events, times)), dtype=dtype)\n",
    "custom_y"
   ]
  },
  {
   "cell_type": "markdown",
   "metadata": {},
   "source": [
    "## 🧮 Kaplan-Meier Estimator"
   ]
  },
  {
   "cell_type": "code",
   "execution_count": 11,
   "metadata": {},
   "outputs": [
    {
     "name": "stdout",
     "output_type": "stream",
     "text": [
      "Time: 8.00, Survival: 1.0000\n",
      "Time: 357.00, Survival: 0.9146\n",
      "Time: 553.00, Survival: 0.8029\n",
      "Time: 758.00, Survival: 0.7241\n",
      "Time: 1059.00, Survival: 0.6368\n",
      "Time: 1343.00, Survival: 0.5609\n",
      "Time: 1721.00, Survival: 0.5057\n",
      "Time: 2049.00, Survival: 0.4141\n"
     ]
    },
    {
     "data": {
      "image/png": "[encoded data removed]",
      "text/plain": [
       "<Figure size 640x480 with 1 Axes>"
      ]
     },
     "metadata": {},
     "output_type": "display_data"
    }
   ],
   "source": [
    "events, times = y_train[\"cens\"], y_train[\"time\"]\n",
    "km_time, km_surv = kaplan_meier_estimator(events, times)\n",
    "\n",
    "for i in range(0, len(km_time), 50):\n",
    "    print(f\"Time: {km_time[i]:.2f}, Survival: {km_surv[i]:.4f}\")\n",
    "\n",
    "plt.step(km_time, km_surv, where=\"post\")\n",
    "plt.ylabel(r\"Survival Function $\\hat{S}(t)$\")\n",
    "plt.xlabel(r\"Time $t$\")\n",
    "plt.title(\"Kaplan-Meier estimate\")\n",
    "plt.ylim(0, 1)\n",
    "plt.xlim(0, np.max(times))\n",
    "plt.grid(True)\n",
    "plt.show();"
   ]
  },
  {
   "cell_type": "markdown",
   "metadata": {},
   "source": [
    "## 🧠 Survival Models"
   ]
  },
  {
   "cell_type": "code",
   "execution_count": 12,
   "metadata": {},
   "outputs": [],
   "source": [
    "def concordance_index(y_true, preds):\n",
    "    return float(concordance_index_censored(y_true[\"cens\"], y_true[\"time\"], preds)[0])"
   ]
  },
  {
   "cell_type": "markdown",
   "metadata": {},
   "source": [
    "### Cox"
   ]
  },
  {
   "cell_type": "code",
   "execution_count": 13,
   "metadata": {},
   "outputs": [
    {
     "name": "stdout",
     "output_type": "stream",
     "text": [
      "CoxPH model concordance index: 0.6369\n"
     ]
    }
   ],
   "source": [
    "estimator = CoxPHSurvivalAnalysis()\n",
    "estimator.fit(X_train, y_train)\n",
    "\n",
    "preds = estimator.predict(X_test)\n",
    "score = concordance_index(y_test, preds)\n",
    "\n",
    "print(f\"CoxPH model concordance index: {score:.4f}\")"
   ]
  },
  {
   "cell_type": "markdown",
   "metadata": {},
   "source": [
    "### Random Survival Forest"
   ]
  },
  {
   "cell_type": "code",
   "execution_count": 14,
   "metadata": {},
   "outputs": [
    {
     "name": "stdout",
     "output_type": "stream",
     "text": [
      "RandomSurvivalForest model concordance index: 0.6507\n"
     ]
    }
   ],
   "source": [
    "estimator = RandomSurvivalForest(random_state=42)\n",
    "estimator.fit(X_train, y_train)\n",
    "\n",
    "preds = estimator.predict(X_test)\n",
    "score = concordance_index(y_test, preds)\n",
    "\n",
    "print(f\"RandomSurvivalForest model concordance index: {score:.4f}\")"
   ]
  },
  {
   "cell_type": "markdown",
   "metadata": {},
   "source": [
    "### Fully Parametric Gradient Boosting"
   ]
  },
  {
   "cell_type": "code",
   "execution_count": 15,
   "metadata": {},
   "outputs": [
    {
     "name": "stdout",
     "output_type": "stream",
     "text": [
      "FPBoost model concordance index: 0.6819\n"
     ]
    }
   ],
   "source": [
    "estimator = FPBoost(random_state=42)\n",
    "estimator.fit(X_train, y_train)\n",
    "\n",
    "preds = estimator.predict(X_test)\n",
    "score = concordance_index(y_test, preds)\n",
    "\n",
    "print(f\"FPBoost model concordance index: {score:.4f}\")"
   ]
  },
  {
   "cell_type": "markdown",
   "metadata": {},
   "source": [
    "### DeepSurv"
   ]
  },
  {
   "cell_type": "code",
   "execution_count": 16,
   "metadata": {},
   "outputs": [
    {
     "name": "stdout",
     "output_type": "stream",
     "text": [
      "DeepSurv model concordance index: 0.6641\n"
     ]
    }
   ],
   "source": [
    "_X_train = X_train.astype(np.float32)\n",
    "_y_train = (y_train[\"time\"].copy(), y_train[\"cens\"].copy())\n",
    "_y_train = (_y_train[0].astype(np.float32), _y_train[1].astype(np.float32))\n",
    "_y_val = (y_val[\"time\"].copy(), y_val[\"cens\"].copy())\n",
    "_y_val = (_y_val[0].astype(np.float32), _y_val[1].astype(np.float32))\n",
    "val_data = (X_val.astype(np.float32), _y_val)\n",
    "\n",
    "in_features = _X_train.shape[1]\n",
    "\n",
    "net = tt.practical.MLPVanilla(\n",
    "    in_features,\n",
    "    [i * in_features for i in [3, 5, 3]],  # hidden layers as in Katzman et al., 2018\n",
    "    1,  # output layer\n",
    "    batch_norm=True,\n",
    "    dropout=0.6,\n",
    ")\n",
    "callbacks = [\n",
    "    tt.callbacks.EarlyStopping(patience=10),\n",
    "    tt.callbacks.StopIfExplodeOrNan(),\n",
    "]\n",
    "\n",
    "estimator = CoxPH(net, tt.optim.Adam)  # DeepSurv model\n",
    "with warnings.catch_warnings():\n",
    "    warnings.simplefilter(\"ignore\")\n",
    "    estimator.fit(\n",
    "        _X_train,\n",
    "        _y_train,\n",
    "        batch_size=32,\n",
    "        epochs=50,\n",
    "        val_data=val_data,\n",
    "        callbacks=callbacks,\n",
    "        verbose=False,\n",
    "    )\n",
    "estimator.compute_baseline_hazards()\n",
    "\n",
    "preds = estimator.predict_surv_df(X_test.astype(np.float32))\n",
    "times = np.linspace(0, y_test[\"time\"].max(), 100)\n",
    "unique_times = preds.index.to_numpy()\n",
    "preds = np.array([preds.iloc[:, i].values for i in range(preds.shape[1])])\n",
    "surv = np.zeros((X_test.shape[0], len(times)))\n",
    "for i, t in enumerate(times):\n",
    "    idx = np.abs(unique_times - t).argmin()\n",
    "    surv[:, i] = preds[:, idx]\n",
    "risk = -np.sum(surv, axis=1)\n",
    "\n",
    "score = concordance_index(y_test, risk)\n",
    "print(f\"DeepSurv model concordance index: {score:.4f}\")"
   ]
  },
  {
   "cell_type": "markdown",
   "metadata": {},
   "source": [
    "### DeepHit"
   ]
  },
  {
   "cell_type": "code",
   "execution_count": 17,
   "metadata": {},
   "outputs": [
    {
     "name": "stdout",
     "output_type": "stream",
     "text": [
      "DeepHit model concordance index: 0.4984\n"
     ]
    }
   ],
   "source": [
    "num_durations = 10\n",
    "\n",
    "labtrans = DeepHitSingle.label_transform(num_durations)\n",
    "_y_train = labtrans.fit_transform(\n",
    "    y_train[\"time\"].astype(np.float32), y_train[\"cens\"].astype(np.float32)\n",
    ")\n",
    "_y_val = labtrans.transform(y_val[\"time\"].astype(np.float32), y_val[\"cens\"].astype(np.float32))\n",
    "val_data = (X_val.astype(np.float32), _y_val)\n",
    "net = tt.practical.MLPVanilla(\n",
    "    X_train.shape[1],\n",
    "    [i * X_train.shape[1] for i in [3, 5, 3]],\n",
    "    num_durations,  # outputs\n",
    "    batch_norm=True,\n",
    "    dropout=0.6,\n",
    ")\n",
    "callbacks = [\n",
    "    tt.callbacks.EarlyStopping(patience=10),\n",
    "    tt.callbacks.StopIfExplodeOrNan(),\n",
    "]\n",
    "\n",
    "estimator = DeepHitSingle(net, tt.optim.Adam, alpha=0.5, duration_index=labtrans.cuts)\n",
    "with warnings.catch_warnings():\n",
    "    warnings.simplefilter(\"ignore\")\n",
    "    estimator.fit(\n",
    "        X_train.astype(np.float32),\n",
    "        _y_train,\n",
    "        batch_size=32,\n",
    "        epochs=50,\n",
    "        val_data=val_data,\n",
    "        callbacks=callbacks,\n",
    "        verbose=False,\n",
    "    )\n",
    "\n",
    "preds = estimator.predict_surv_df(X_test.astype(np.float32))\n",
    "times = np.linspace(0, y_test[\"time\"].max(), 100)\n",
    "unique_times = preds.index.to_numpy()\n",
    "preds = np.array([preds.iloc[:, i].values for i in range(preds.shape[1])])\n",
    "surv = np.zeros((X_test.shape[0], len(times)))\n",
    "for i, t in enumerate(times):\n",
    "    idx = np.abs(unique_times - t).argmin()\n",
    "    surv[:, i] = preds[:, idx]\n",
    "risk = -np.sum(surv, axis=1)\n",
    "\n",
    "score = concordance_index(y_test, risk)\n",
    "print(f\"DeepHit model concordance index: {score:.4f}\")"
   ]
  },
  {
   "cell_type": "markdown",
   "metadata": {},
   "source": [
    "### XGBoost"
   ]
  },
  {
   "cell_type": "code",
   "execution_count": 18,
   "metadata": {},
   "outputs": [
    {
     "name": "stdout",
     "output_type": "stream",
     "text": [
      "XGBoost model concordance index: 0.6177\n"
     ]
    }
   ],
   "source": [
    "dtrain = xgb.DMatrix(X_train, label=y_train[\"time\"])\n",
    "dval = xgb.DMatrix(X_val, label=y_val[\"time\"])\n",
    "dtest = xgb.DMatrix(X_test, label=y_test[\"time\"])\n",
    "\n",
    "params = {\n",
    "    \"objective\": \"survival:cox\",\n",
    "    \"eval_metric\": \"cox-nloglik\",\n",
    "    \"seed\": 42,\n",
    "    \"eta\": 0.01,\n",
    "    \"max_depth\": 6,\n",
    "    \"subsample\": 0.8,\n",
    "    \"colsample_bytree\": 0.8,\n",
    "    \"lambda\": 1.0,\n",
    "    \"alpha\": 0.1,\n",
    "}\n",
    "\n",
    "estimator = xgb.train(\n",
    "    params=params,\n",
    "    dtrain=dtrain,\n",
    "    evals=[(dtrain, \"train\"), (dval, \"val\")],\n",
    "    early_stopping_rounds=10,\n",
    "    num_boost_round=500,\n",
    "    verbose_eval=False,\n",
    ")\n",
    "\n",
    "preds = estimator.predict(dtest)\n",
    "score = concordance_index(y_test, preds)\n",
    "print(f\"XGBoost model concordance index: {score:.4f}\")"
   ]
  }
 ],
 "metadata": {
  "kernelspec": {
   "display_name": "survcc",
   "language": "python",
   "name": "python3"
  },
  "language_info": {
   "codemirror_mode": {
    "name": "ipython",
    "version": 3
   },
   "file_extension": ".py",
   "mimetype": "text/x-python",
   "name": "python",
   "nbconvert_exporter": "python",
   "pygments_lexer": "ipython3",
   "version": "3.11.11"
  }
 },
 "nbformat": 4,
 "nbformat_minor": 2
}
